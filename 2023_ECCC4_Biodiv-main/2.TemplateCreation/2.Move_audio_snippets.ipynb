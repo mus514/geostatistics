{
 "cells": [
  {
   "cell_type": "markdown",
   "metadata": {},
   "source": [
    "## Moving audio snippets"
   ]
  },
  {
   "cell_type": "code",
   "execution_count": 1,
   "metadata": {},
   "outputs": [],
   "source": [
    "import os\n",
    "import shutil"
   ]
  },
  {
   "cell_type": "code",
   "execution_count": 3,
   "metadata": {},
   "outputs": [],
   "source": [
    "# Move snippets that have a prediction score of lower than 80% to a folder called \"Not_processed\"\n",
    "\n",
    "# Define the directory\n",
    "directory = \"C:/Users/Jurie/Desktop/New_data/Audiomoths_2024_Summer_AudioSamples/\"\n",
    "\n",
    "# Function to process each species folder\n",
    "def process_species_folder(folder_path):\n",
    "    # Create the \"Not_processed\" folder if it doesn't exist\n",
    "    not_processed_folder = os.path.join(folder_path, 'Not_processed')\n",
    "    if not os.path.exists(not_processed_folder):\n",
    "        os.makedirs(not_processed_folder)\n",
    "    \n",
    "    # Loop through all .wav files in the folder\n",
    "    for file_name in os.listdir(folder_path):\n",
    "        if file_name.endswith('.wav'):\n",
    "            # Extract the probability score from the file name\n",
    "            try:\n",
    "                probability_score = float(file_name.split(' ')[-1].replace('.wav', ''))\n",
    "                # If the probability score is less than 0.8, move the file\n",
    "                if probability_score < 0.8:\n",
    "                    source = os.path.join(folder_path, file_name)\n",
    "                    destination = os.path.join(not_processed_folder, file_name)\n",
    "                    shutil.move(source, destination)\n",
    "            except ValueError:\n",
    "                # Handle the case where the file name does not have the expected format\n",
    "                print(f\"Skipping file with unexpected format: {file_name}\")\n",
    "\n",
    "# Loop through all species folders in the base directory\n",
    "for species_folder in os.listdir(directory):\n",
    "    species_folder_path = os.path.join(directory, species_folder)\n",
    "    # Ignore \"Noise\" and \"Uncertain\" folders, as well as .csv and .xlsv files\n",
    "    if os.path.isdir(species_folder_path) and species_folder not in ['Noise', 'Uncertain']:\n",
    "        process_species_folder(species_folder_path)"
   ]
  },
  {
   "cell_type": "markdown",
   "metadata": {},
   "source": []
  },
  {
   "cell_type": "code",
   "execution_count": 3,
   "metadata": {},
   "outputs": [],
   "source": [
    "# Move snippets that have a prediction score of lower than 80% to a folder called \"Not_processed\"\n",
    "\n",
    "# Define the directory\n",
    "directory = \"D:/Audiomoths_2024_Summer_AudioSamples_NOT_COMPLETE/\"\n",
    "\n",
    "# Function to process each species folder\n",
    "def process_species_folder(folder_path):\n",
    "    # Create the \"Not_processed\" folder if it doesn't exist\n",
    "    not_processed_folder = os.path.join(folder_path, 'Not_processed')\n",
    "    if not os.path.exists(not_processed_folder):\n",
    "        os.makedirs(not_processed_folder)\n",
    "    \n",
    "    # Loop through all .wav files in the folder\n",
    "    for file_name in os.listdir(folder_path):\n",
    "        if file_name.endswith('.wav'):\n",
    "            # Extract the probability score from the file name\n",
    "            try:\n",
    "                probability_score = float(file_name.split(' ')[-1].replace('.wav', ''))\n",
    "                # If the probability score is less than 0.8, move the file\n",
    "                if probability_score < 0.8:\n",
    "                    source = os.path.join(folder_path, file_name)\n",
    "                    destination = os.path.join(not_processed_folder, file_name)\n",
    "                    shutil.move(source, destination)\n",
    "            except ValueError:\n",
    "                # Handle the case where the file name does not have the expected format\n",
    "                print(f\"Skipping file with unexpected format: {file_name}\")\n",
    "\n",
    "# Loop through all species folders in the base directory\n",
    "for species_folder in os.listdir(directory):\n",
    "    species_folder_path = os.path.join(directory, species_folder)\n",
    "    # Ignore \"Noise\" and \"Uncertain\" folders, as well as .csv and .xlsv files\n",
    "    if os.path.isdir(species_folder_path) and species_folder not in ['Noise', 'Uncertain']:\n",
    "        process_species_folder(species_folder_path)"
   ]
  },
  {
   "cell_type": "markdown",
   "metadata": {},
   "source": []
  },
  {
   "cell_type": "code",
   "execution_count": 15,
   "metadata": {},
   "outputs": [],
   "source": [
    "# Move snippets that have a prediction score of lower than 80% to a folder called \"Not_processed\"\n",
    "\n",
    "# Define the directory\n",
    "directory = \"D:/Audiomoths_2024_Spring_AudioSamples/\"\n",
    "\n",
    "# Function to process each species folder\n",
    "def process_species_folder(folder_path):\n",
    "    # Create the \"Not_processed\" folder if it doesn't exist\n",
    "    not_processed_folder = os.path.join(folder_path, 'Not_processed')\n",
    "    if not os.path.exists(not_processed_folder):\n",
    "        os.makedirs(not_processed_folder)\n",
    "    \n",
    "    # Loop through all .wav files in the folder\n",
    "    for file_name in os.listdir(folder_path):\n",
    "        if file_name.endswith('.wav'):\n",
    "            # Extract the probability score from the file name\n",
    "            try:\n",
    "                probability_score = float(file_name.split(' ')[-1].replace('.wav', ''))\n",
    "                # If the probability score is less than 0.8, move the file\n",
    "                if probability_score < 0.8:\n",
    "                    source = os.path.join(folder_path, file_name)\n",
    "                    destination = os.path.join(not_processed_folder, file_name)\n",
    "                    shutil.move(source, destination)\n",
    "            except ValueError:\n",
    "                # Handle the case where the file name does not have the expected format\n",
    "                print(f\"Skipping file with unexpected format: {file_name}\")\n",
    "\n",
    "# Loop through all species folders in the base directory\n",
    "for species_folder in os.listdir(directory):\n",
    "    species_folder_path = os.path.join(directory, species_folder)\n",
    "    # Ignore \"Noise\" and \"Uncertain\" folders, as well as .csv and .xlsv files\n",
    "    if os.path.isdir(species_folder_path) and species_folder not in ['Noise', 'Uncertain']:\n",
    "        process_species_folder(species_folder_path)"
   ]
  },
  {
   "cell_type": "markdown",
   "metadata": {},
   "source": []
  },
  {
   "cell_type": "code",
   "execution_count": 3,
   "metadata": {},
   "outputs": [
    {
     "name": "stdout",
     "output_type": "stream",
     "text": [
      "Skipping file with unexpected format: 1241.Correct Poecile atricapillus.wav\n",
      "Skipping file with unexpected format: 1242.Correct Poecile atricapillus.wav\n",
      "Skipping file with unexpected format: 1243.Correct Poecile atricapillus.wav\n",
      "Skipping file with unexpected format: 1244.Correct Poecile atricapillus.wav\n",
      "Skipping file with unexpected format: 1245.Correct Poecile atricapillus.wav\n",
      "Skipping file with unexpected format: 5.Correct Sturnus vulgaris.wav\n",
      "Skipping file with unexpected format: 218.INCORRECT Cardinalis cardinalis.wav\n",
      "Skipping file with unexpected format: 219.INCORRECT Cardinalis cardinalis.wav\n",
      "Skipping file with unexpected format: 220.INCORRECT Cardinalis cardinalis.wav\n",
      "Skipping file with unexpected format: 221.INCORRECT Cardinalis cardinalis.wav\n"
     ]
    }
   ],
   "source": [
    "# Move snippets that have a prediction score of lower than 80% to a folder called \"Not_processed\"\n",
    "\n",
    "# Define the directory\n",
    "directory = \"P:/Projets/Actif/2023_ECCC4_Biodiv/3-Analyses/1-Data/AudioMoth_recordings/Audiomoths_2023_AudioSamples/\"\n",
    "\n",
    "# Function to process each species folder\n",
    "def process_species_folder(folder_path):\n",
    "    # Create the \"Not_processed\" folder if it doesn't exist\n",
    "    not_processed_folder = os.path.join(folder_path, 'Not_processed')\n",
    "    if not os.path.exists(not_processed_folder):\n",
    "        os.makedirs(not_processed_folder)\n",
    "    \n",
    "    # Loop through all .wav files in the folder\n",
    "    for file_name in os.listdir(folder_path):\n",
    "        if file_name.endswith('.wav'):\n",
    "            # Extract the probability score from the file name\n",
    "            try:\n",
    "                probability_score = float(file_name.split(' ')[-1].replace('.wav', ''))\n",
    "                # If the probability score is less than 0.8, move the file\n",
    "                if probability_score < 0.8:\n",
    "                    source = os.path.join(folder_path, file_name)\n",
    "                    destination = os.path.join(not_processed_folder, file_name)\n",
    "                    shutil.move(source, destination)\n",
    "            except ValueError:\n",
    "                # Handle the case where the file name does not have the expected format\n",
    "                print(f\"Skipping file with unexpected format: {file_name}\")\n",
    "\n",
    "# Loop through all species folders in the base directory\n",
    "for species_folder in os.listdir(directory):\n",
    "    species_folder_path = os.path.join(directory, species_folder)\n",
    "    # Ignore \"Noise\" and \"Uncertain\" folders, as well as .csv and .xlsv files\n",
    "    if os.path.isdir(species_folder_path) and species_folder not in ['Noise', 'Uncertain']:\n",
    "        process_species_folder(species_folder_path)"
   ]
  },
  {
   "cell_type": "markdown",
   "metadata": {},
   "source": [
    "## Reduce samples further"
   ]
  },
  {
   "cell_type": "markdown",
   "metadata": {},
   "source": [
    "Select top 500 samples if amount of samples is more than this"
   ]
  },
  {
   "cell_type": "code",
   "execution_count": 2,
   "metadata": {},
   "outputs": [],
   "source": [
    "import os\n",
    "import shutil"
   ]
  },
  {
   "cell_type": "code",
   "execution_count": 3,
   "metadata": {},
   "outputs": [],
   "source": [
    "# Functions\n",
    "def get_score(filename):\n",
    "    \"\"\"Extract the score from the filename.\"\"\"\n",
    "    try:\n",
    "        return float(filename.split()[-1].split('.wav')[0])\n",
    "    except (IndexError, ValueError):\n",
    "        return -1\n",
    "\n",
    "def process_directory(directory,num):\n",
    "    \"\"\"Process a directory to keep top 5 .wav files and move the rest to Not_processed.\"\"\"\n",
    "    # Create Not_processed directory if it does not exist\n",
    "    not_processed_dir = os.path.join(directory, 'Not_processed')\n",
    "    os.makedirs(not_processed_dir, exist_ok=True)\n",
    "    \n",
    "    # List all .wav files excluding those in Not_processed directory\n",
    "    wav_files = [\n",
    "        f for f in os.listdir(directory)\n",
    "        if f.endswith('.wav') and os.path.isfile(os.path.join(directory, f))\n",
    "    ]\n",
    "    \n",
    "    # Sort the files by score in descending order\n",
    "    sorted_files = sorted(wav_files, key=get_score, reverse=True)\n",
    "    \n",
    "    # Keep top files\n",
    "    top_files = sorted_files[:num]\n",
    "    \n",
    "    # Move the rest to Not_processed directory\n",
    "    for file in sorted_files[num:]:\n",
    "        src_path = os.path.join(directory, file)\n",
    "        dst_path = os.path.join(not_processed_dir, file)\n",
    "        shutil.move(src_path, dst_path)\n",
    "        \n",
    "    return top_files\n",
    "\n",
    "def main_dir(base_dir,num):\n",
    "    \"\"\"Process all subdirectories within the base directory, excluding 'Noise' and 'Uncertain'.\"\"\"\n",
    "    exclude_dirs = {'Noise', 'Uncertain'}\n",
    "    \n",
    "    for root, dirs, _ in os.walk(base_dir):\n",
    "        # Remove excluded directories from the list of directories to walk\n",
    "        dirs[:] = [d for d in dirs if d not in exclude_dirs]\n",
    "        \n",
    "        for dir_name in dirs:\n",
    "            dir_path = os.path.join(root, dir_name)\n",
    "            if os.path.basename(dir_path) != 'Not_processed':\n",
    "                process_directory(dir_path,num)\n",
    "\n",
    "def main_folder(base_dir,num):\n",
    "    \"\"\"Process all subdirectories within the base directory, excluding 'Noise' and 'Uncertain'.\"\"\"\n",
    "    if os.path.basename(base_dir) != 'Not_processed':\n",
    "        process_directory(base_dir,num)"
   ]
  },
  {
   "cell_type": "code",
   "execution_count": null,
   "metadata": {},
   "outputs": [],
   "source": []
  },
  {
   "cell_type": "code",
   "execution_count": 5,
   "metadata": {},
   "outputs": [],
   "source": [
    "# Main directory path\n",
    "directory = \"P:/Projets/Actif/2023_ECCC4_Biodiv/3-Analyses/1-Data/AudioMoth_recordings/Audiomoths_2024_Summer_AudioSamples/Correct Contopus virens/\"\n",
    "\n",
    "# Process each folder\n",
    "main_folder(directory,500)"
   ]
  },
  {
   "cell_type": "code",
   "execution_count": 6,
   "metadata": {},
   "outputs": [],
   "source": [
    "# Main directory path\n",
    "directory = \"P:/Projets/Actif/2023_ECCC4_Biodiv/3-Analyses/1-Data/AudioMoth_recordings/Audiomoths_2024_Summer_AudioSamples/Correct Corvus brachyrhynchos/\"\n",
    "\n",
    "# Process each folder\n",
    "main_folder(directory,500)"
   ]
  },
  {
   "cell_type": "code",
   "execution_count": 7,
   "metadata": {},
   "outputs": [],
   "source": [
    "# Main directory path\n",
    "directory = \"P:/Projets/Actif/2023_ECCC4_Biodiv/3-Analyses/1-Data/AudioMoth_recordings/Audiomoths_2024_Summer_AudioSamples/Correct Geothlypis trichas/\"\n",
    "\n",
    "# Process each folder\n",
    "main_folder(directory,500)"
   ]
  },
  {
   "cell_type": "code",
   "execution_count": 8,
   "metadata": {},
   "outputs": [],
   "source": [
    "# Main directory path\n",
    "directory = \"P:/Projets/Actif/2023_ECCC4_Biodiv/3-Analyses/1-Data/AudioMoth_recordings/Audiomoths_2024_Summer_AudioSamples/Correct Melospiza melodia/\"\n",
    "\n",
    "# Process each folder\n",
    "main_folder(directory,500)"
   ]
  },
  {
   "cell_type": "code",
   "execution_count": 9,
   "metadata": {},
   "outputs": [],
   "source": [
    "# Main directory path\n",
    "directory = \"P:/Projets/Actif/2023_ECCC4_Biodiv/3-Analyses/1-Data/AudioMoth_recordings/Audiomoths_2024_Summer_AudioSamples/Correct Passerina cyanea/\"\n",
    "\n",
    "# Process each folder\n",
    "main_folder(directory,500)"
   ]
  },
  {
   "cell_type": "code",
   "execution_count": 10,
   "metadata": {},
   "outputs": [],
   "source": [
    "# Main directory path\n",
    "directory = \"P:/Projets/Actif/2023_ECCC4_Biodiv/3-Analyses/1-Data/AudioMoth_recordings/Audiomoths_2024_Summer_AudioSamples/Correct Spinus tristis/\"\n",
    "\n",
    "# Process each folder\n",
    "main_folder(directory,500)"
   ]
  },
  {
   "cell_type": "code",
   "execution_count": 11,
   "metadata": {},
   "outputs": [],
   "source": [
    "# Main directory path\n",
    "directory = \"P:/Projets/Actif/2023_ECCC4_Biodiv/3-Analyses/1-Data/AudioMoth_recordings/Audiomoths_2024_Summer_AudioSamples/Correct Tyrannus tyrannus/\"\n",
    "\n",
    "# Process each folder\n",
    "main_folder(directory,500)"
   ]
  },
  {
   "cell_type": "code",
   "execution_count": null,
   "metadata": {},
   "outputs": [],
   "source": []
  },
  {
   "cell_type": "code",
   "execution_count": 7,
   "metadata": {},
   "outputs": [],
   "source": [
    "# Main directory path\n",
    "directory = \"C:/Users/Jurie/Desktop/New_data/Audiomoths_2024_Summer_AudioSamples/\"\n",
    "\n",
    "# Process each folder\n",
    "main_dir(directory,500)"
   ]
  },
  {
   "cell_type": "markdown",
   "metadata": {},
   "source": []
  },
  {
   "cell_type": "code",
   "execution_count": 18,
   "metadata": {},
   "outputs": [],
   "source": [
    "# Main directory path\n",
    "directory = \"D:/Audiomoths_2024_Spring_AudioSamples/\"\n",
    "\n",
    "# Process each folder\n",
    "main_dir(directory,500)"
   ]
  },
  {
   "cell_type": "markdown",
   "metadata": {},
   "source": []
  },
  {
   "cell_type": "code",
   "execution_count": 3,
   "metadata": {},
   "outputs": [],
   "source": [
    "# Main directory path\n",
    "directory = \"D:/Audiomoths_2024_Summer_AudioSamples_NOT_COMPLETE/\"\n",
    "\n",
    "# Process each folder\n",
    "main_dir(directory,500)"
   ]
  },
  {
   "cell_type": "markdown",
   "metadata": {},
   "source": [
    "## Move files out of Not_processed"
   ]
  },
  {
   "cell_type": "code",
   "execution_count": 11,
   "metadata": {},
   "outputs": [],
   "source": [
    "import os\n",
    "import shutil"
   ]
  },
  {
   "cell_type": "code",
   "execution_count": 12,
   "metadata": {},
   "outputs": [],
   "source": [
    "# Custom function\n",
    "def move_wav_files(root_dir):\n",
    "    for dirpath, dirnames, _ in os.walk(root_dir):\n",
    "        for dirname in dirnames:\n",
    "            if dirname == 'Not_processed':\n",
    "                not_processed_dir = os.path.join(dirpath, dirname)\n",
    "                parent_dir = os.path.abspath(os.path.join(not_processed_dir, os.pardir))\n",
    "                \n",
    "                for file_name in os.listdir(not_processed_dir):\n",
    "                    if file_name.endswith('.wav'):\n",
    "                        source_path = os.path.join(not_processed_dir, file_name)\n",
    "                        dest_path = os.path.join(parent_dir, file_name)\n",
    "                        \n",
    "                        shutil.move(source_path, dest_path)"
   ]
  },
  {
   "cell_type": "code",
   "execution_count": 13,
   "metadata": {},
   "outputs": [],
   "source": [
    "move_wav_files(\"D:/Audiomoths_2024_Spring_AudioSamples/\")"
   ]
  }
 ],
 "metadata": {
  "kernelspec": {
   "display_name": "birdNET",
   "language": "python",
   "name": "python3"
  },
  "language_info": {
   "codemirror_mode": {
    "name": "ipython",
    "version": 3
   },
   "file_extension": ".py",
   "mimetype": "text/x-python",
   "name": "python",
   "nbconvert_exporter": "python",
   "pygments_lexer": "ipython3",
   "version": "3.10.13"
  }
 },
 "nbformat": 4,
 "nbformat_minor": 2
}
