{
 "cells": [
  {
   "cell_type": "markdown",
   "metadata": {
    "id": "AjNsE-YjbCew"
   },
   "source": [
    "# Mass Embedding of Bioacoustic Audio\n",
    "\n",
    "This notebook facilitates pre-computing embeddings of audio data for subsequent\n",
    "use with search, classification, and analysis."
   ]
  },
  {
   "cell_type": "markdown",
   "metadata": {
    "id": "avlqyEzpa_rN"
   },
   "source": [
    "## Configuration and Imports."
   ]
  },
  {
   "cell_type": "code",
   "execution_count": 1,
   "metadata": {
    "id": "3kuA7b5Wap7o"
   },
   "outputs": [],
   "source": [
    "import os\n",
    "os.environ['TF_CPP_MIN_LOG_LEVEL'] = '3'\n",
    "from etils import epath\n",
    "from ml_collections import config_dict\n",
    "import numpy as np\n",
    "import tensorflow as tf\n",
    "import tqdm\n",
    "from chirp import audio_utils\n",
    "from chirp.inference import embed_lib\n",
    "from chirp.inference import tf_examples"
   ]
  },
  {
   "cell_type": "code",
   "execution_count": 2,
   "metadata": {
    "id": "-l4NL0CAavKl"
   },
   "outputs": [],
   "source": [
    "# Working dir for saving products\n",
    "working_dir = \"/workspaces/2023_ECCC4_Biodiv/data/\"\n",
    "embeddings_path = epath.Path(working_dir) / 'embeddings'\n",
    "\n",
    "# Path to data\n",
    "#data_to_embed = working_dir + \"external_data_drive/\" # if path to data is outside repo \"/workspaces/data_folder/audio/Anas platyrhynchos/\". Depending on the mount path in devcontainer.json\n",
    "#data_to_embed_extention = [\"*.WAV\"]\n",
    "data_to_embed = working_dir + \"audio/\" # if path to data is outside repo \"/workspaces/data_folder/audio/Anas platyrhynchos/\". Depending on the mount path in devcontainer.json\n",
    "data_to_embed_extention = [\"*.WAV\"]"
   ]
  },
  {
   "cell_type": "markdown",
   "metadata": {
    "id": "G7W8Rl0ma8Mm"
   },
   "source": [
    "## Embed Audio"
   ]
  },
  {
   "cell_type": "code",
   "execution_count": 3,
   "metadata": {
    "id": "vobyRomeazNr"
   },
   "outputs": [],
   "source": [
    "# Set up configs to be used by model\n",
    "config = config_dict.ConfigDict()\n",
    "config.embed_fn_config = config_dict.ConfigDict()\n",
    "config.embed_fn_config.model_config = config_dict.ConfigDict()\n",
    "\n",
    "config.source_file_patterns = data_to_embed_extention\n",
    "config.source_file_root = data_to_embed\n",
    "config.output_dir = embeddings_path.as_posix()\n",
    "\n",
    "config.embed_fn_config.model_key = 'taxonomy_model_tf'\n",
    "config.embed_fn_config.model_config.window_size_s = 5.0\n",
    "config.embed_fn_config.model_config.hop_size_s = 5.0\n",
    "config.embed_fn_config.model_config.sample_rate = 32000\n",
    "config.embed_fn_config.model_config.tfhub_version = 8\n",
    "config.embed_fn_config.model_config.model_path = ''\n",
    "\n",
    "# Only write embeddings to reduce size.\n",
    "config.embed_fn_config.write_embeddings = True\n",
    "config.embed_fn_config.write_logits = False\n",
    "config.embed_fn_config.write_separated_audio = False\n",
    "config.embed_fn_config.write_raw_audio = False\n",
    "\n",
    "# Use sharding\n",
    "use_file_sharding = True\n",
    "if use_file_sharding:\n",
    "  config.shard_len_s = 60.0\n",
    "\n",
    "# Number of parent directories to include in the filename.\n",
    "config.embed_fn_config.file_id_depth = 1"
   ]
  },
  {
   "cell_type": "code",
   "execution_count": 4,
   "metadata": {},
   "outputs": [
    {
     "name": "stdout",
     "output_type": "stream",
     "text": [
      "\n",
      "Loading model(s)...\n",
      "Found 60 source infos.\n",
      "\n",
      "\n",
      "Test-run of model...\n"
     ]
    },
    {
     "name": "stderr",
     "output_type": "stream",
     "text": [
      "WARNING: All log messages before absl::InitializeLog() is called are written to STDERR\n",
      "I0000 00:00:1742402020.270868    4514 service.cc:145] XLA service 0x55e82f305680 initialized for platform CUDA (this does not guarantee that XLA will be used). Devices:\n",
      "I0000 00:00:1742402020.270926    4514 service.cc:153]   StreamExecutor device (0): NVIDIA GeForce RTX 3070 Ti Laptop GPU, Compute Capability 8.6\n",
      "W0000 00:00:1742402020.485330    4514 assert_op.cc:38] Ignoring Assert operator jax2tf_infer_fn_/assert_equal_1/Assert/AssertGuard/Assert\n"
     ]
    },
    {
     "name": "stdout",
     "output_type": "stream",
     "text": [
      "Setup complete!\n"
     ]
    },
    {
     "name": "stderr",
     "output_type": "stream",
     "text": [
      "I0000 00:00:1742402029.696755    4514 device_compiler.h:188] Compiled cluster using XLA!  This line is logged at most once for the lifetime of the process.\n"
     ]
    }
   ],
   "source": [
    "# Set up the embedding function, including loading models.\n",
    "embed_fn = embed_lib.EmbedFn(**config.embed_fn_config)\n",
    "print('\\nLoading model(s)...')\n",
    "embed_fn.setup()\n",
    "\n",
    "# Create output directory and write the configuration.\n",
    "output_dir = epath.Path(config.output_dir)\n",
    "output_dir.mkdir(exist_ok=True, parents=True)\n",
    "embed_lib.maybe_write_config(config, output_dir)\n",
    "\n",
    "# Create SourceInfos.\n",
    "source_infos = embed_lib.create_source_infos(\n",
    "    config.source_file_patterns,\n",
    "    config.source_file_root,\n",
    "    num_shards_per_file=config.get('num_shards_per_file', -1),\n",
    "    shard_len_s=config.get('shard_len_s', -1))\n",
    "print(f'Found {len(source_infos)} source infos.')\n",
    "\n",
    "# Set up\n",
    "print('\\n\\nTest-run of model...')\n",
    "window_size_s = config.embed_fn_config.model_config.window_size_s\n",
    "sr = config.embed_fn_config.model_config.sample_rate\n",
    "z = np.zeros([int(sr * window_size_s)], dtype=np.float32)\n",
    "embed_fn.embedding_model.embed(z)\n",
    "print('Setup complete!')"
   ]
  },
  {
   "cell_type": "code",
   "execution_count": 5,
   "metadata": {},
   "outputs": [
    {
     "name": "stdout",
     "output_type": "stream",
     "text": [
      "Found 0 existing embedding ids. \n",
      "Processing 60 new source infos. \n"
     ]
    },
    {
     "name": "stderr",
     "output_type": "stream",
     "text": [
      "  0%|          | 0/60 [00:00<?, ?it/s]W0000 00:00:1742402033.966301    4514 assert_op.cc:38] Ignoring Assert operator jax2tf_infer_fn_/assert_equal_1/Assert/AssertGuard/Assert\n",
      "WARNING: All log messages before absl::InitializeLog() is called are written to STDERR\n",
      "I0000 00:00:1742402036.385650    4905 asm_compiler.cc:369] ptxas warning : Registers are spilled to local memory in function 'triton_gemm_dot_3753', 4 bytes spill stores, 4 bytes spill loads\n",
      "\n",
      "I0000 00:00:1742402036.402398    4900 asm_compiler.cc:369] ptxas warning : Registers are spilled to local memory in function 'triton_gemm_dot_3', 184 bytes spill stores, 184 bytes spill loads\n",
      "\n",
      "I0000 00:00:1742402037.324482    4898 asm_compiler.cc:369] ptxas warning : Registers are spilled to local memory in function 'triton_gemm_dot_2781', 56 bytes spill stores, 56 bytes spill loads\n",
      "\n",
      "  5%|▌         | 3/60 [00:12<03:09,  3.33s/it]WARNING:absl:The audio at (/workspaces/2023_ECCC4_Biodiv/data/audio/20240429_074100_done.WAV / 5) could not be loaded (audio_empty). The exception was (no_exception)\n",
      " 18%|█▊        | 11/60 [00:13<00:27,  1.76it/s]WARNING:absl:The audio at (/workspaces/2023_ECCC4_Biodiv/data/audio/20240430_070600_done.WAV / 5) could not be loaded (audio_empty). The exception was (no_exception)\n",
      " 27%|██▋       | 16/60 [00:13<00:13,  3.20it/s]WARNING:absl:The audio at (/workspaces/2023_ECCC4_Biodiv/data/audio/20240501_072000_done.WAV / 5) could not be loaded (audio_empty). The exception was (no_exception)\n",
      " 35%|███▌      | 21/60 [00:13<00:07,  5.09it/s]WARNING:absl:The audio at (/workspaces/2023_ECCC4_Biodiv/data/audio/20240502_063100_done.WAV / 5) could not be loaded (audio_empty). The exception was (no_exception)\n",
      " 43%|████▎     | 26/60 [00:13<00:04,  7.50it/s]WARNING:absl:The audio at (/workspaces/2023_ECCC4_Biodiv/data/audio/20240502_075500_done.WAV / 5) could not be loaded (audio_empty). The exception was (no_exception)\n",
      " 52%|█████▏    | 31/60 [00:13<00:02, 10.46it/s]WARNING:absl:The audio at (/workspaces/2023_ECCC4_Biodiv/data/audio/20240503_062400_done.WAV / 5) could not be loaded (audio_empty). The exception was (no_exception)\n",
      " 68%|██████▊   | 41/60 [00:13<00:01, 17.07it/s]WARNING:absl:The audio at (/workspaces/2023_ECCC4_Biodiv/data/audio/20240503_063100_done.WAV / 5) could not be loaded (audio_empty). The exception was (no_exception)\n",
      " 77%|███████▋  | 46/60 [00:13<00:00, 21.01it/s]WARNING:absl:The audio at (/workspaces/2023_ECCC4_Biodiv/data/audio/20240503_074100_done.WAV / 5) could not be loaded (audio_empty). The exception was (no_exception)\n",
      " 85%|████████▌ | 51/60 [00:14<00:00, 15.81it/s]WARNING:absl:The audio at (/workspaces/2023_ECCC4_Biodiv/data/audio/20240504_060300_done.WAV / 5) could not be loaded (audio_empty). The exception was (no_exception)\n",
      " 93%|█████████▎| 56/60 [00:14<00:00, 19.51it/s]WARNING:absl:The audio at (/workspaces/2023_ECCC4_Biodiv/data/audio/20240504_070600_done.WAV / 5) could not be loaded (audio_empty). The exception was (no_exception)\n",
      "100%|██████████| 60/60 [00:14<00:00,  4.08it/s]"
     ]
    },
    {
     "name": "stdout",
     "output_type": "stream",
     "text": [
      "\n",
      "\n",
      "Successfully processed 50 source_infos, failed 0 times.\n",
      "b'/workspaces/2023_ECCC4_Biodiv/data/audio/20240429_074100_done.WAV'\n",
      "(12, 1, 1280)\n"
     ]
    },
    {
     "name": "stderr",
     "output_type": "stream",
     "text": [
      "\n"
     ]
    }
   ],
   "source": [
    "# Uses multiple threads to load audio before embedding.\n",
    "# This tends to be faster, but can fail if any audio files are corrupt.\n",
    "embed_fn.min_audio_s = 1.0\n",
    "record_file = (output_dir / 'embeddings.tfrecord').as_posix()\n",
    "succ, fail = 0, 0\n",
    "\n",
    "existing_embedding_ids = embed_lib.get_existing_source_ids(\n",
    "    output_dir, 'embeddings-*')\n",
    "\n",
    "new_source_infos = embed_lib.get_new_source_infos(\n",
    "    source_infos, \n",
    "    existing_embedding_ids,\n",
    "    config.embed_fn_config.file_id_depth)\n",
    "\n",
    "print(f'Found {len(existing_embedding_ids)} existing embedding ids. \\n'\n",
    "      f'Processing {len(new_source_infos)} new source infos. ')\n",
    "\n",
    "try:\n",
    "  audio_loader = lambda fp, offset: audio_utils.load_audio_window(\n",
    "      fp,\n",
    "      offset,\n",
    "      sample_rate=config.embed_fn_config.model_config.sample_rate,\n",
    "      window_size_s=config.get('shard_len_s', -1.0))\n",
    "  audio_iterator = audio_utils.multi_load_audio_window(\n",
    "      filepaths=[s.filepath for s in new_source_infos],\n",
    "      offsets=[s.shard_num * s.shard_len_s for s in new_source_infos],\n",
    "      audio_loader=audio_loader,\n",
    "  )\n",
    "  with tf_examples.EmbeddingsTFRecordMultiWriter(\n",
    "      output_dir=output_dir,\n",
    "      num_files=config.get('tf_record_shards', 1)) as file_writer:\n",
    "    for source_info, audio in tqdm.tqdm(\n",
    "        zip(new_source_infos, audio_iterator),\n",
    "        total=len(new_source_infos)):\n",
    "      if not embed_fn.validate_audio(source_info, audio):\n",
    "        continue\n",
    "      file_id = source_info.filepath\n",
    "      offset_s = source_info.shard_num * source_info.shard_len_s\n",
    "      example = embed_fn.audio_to_example(file_id, offset_s, audio)\n",
    "      if example is None:\n",
    "        fail += 1\n",
    "        continue\n",
    "      file_writer.write(example.SerializeToString())\n",
    "      succ += 1\n",
    "    file_writer.flush()\n",
    "finally:\n",
    "  del(audio_iterator)\n",
    "print(f'\\n\\nSuccessfully processed {succ} source_infos, failed {fail} times.')\n",
    "\n",
    "fns = [fn for fn in output_dir.glob('embeddings-*')]\n",
    "ds = tf.data.TFRecordDataset(fns)\n",
    "parser = tf_examples.get_example_parser()\n",
    "ds = ds.map(parser)\n",
    "for ex in ds.as_numpy_iterator():\n",
    "  print(ex['filename'])\n",
    "  print(ex['embedding'].shape, flush=True)\n",
    "  break"
   ]
  }
 ],
 "metadata": {
  "colab": {
   "private_outputs": true,
   "toc_visible": true
  },
  "kernelspec": {
   "display_name": "Python 3",
   "name": "python3"
  },
  "language_info": {
   "codemirror_mode": {
    "name": "ipython",
    "version": 3
   },
   "file_extension": ".py",
   "mimetype": "text/x-python",
   "name": "python",
   "nbconvert_exporter": "python",
   "pygments_lexer": "ipython3",
   "version": "3.11.11"
  }
 },
 "nbformat": 4,
 "nbformat_minor": 0
}
