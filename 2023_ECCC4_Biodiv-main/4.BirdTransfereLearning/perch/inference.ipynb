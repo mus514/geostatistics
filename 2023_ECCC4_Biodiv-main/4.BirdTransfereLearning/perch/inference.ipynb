{
 "cells": [
  {
   "cell_type": "markdown",
   "metadata": {
    "id": "ndV0dmyzhpHE"
   },
   "source": [
    "# Analysis of Bioacoustic Data\n",
    "\n",
    "This notebook provides tools for analyzing data using a custom classifier (developed with `agile_modeling.ipynb`)."
   ]
  },
  {
   "cell_type": "code",
   "execution_count": 1,
   "metadata": {
    "id": "i984ftjPcxDu"
   },
   "outputs": [],
   "source": [
    "import os\n",
    "os.environ['TF_CPP_MIN_LOG_LEVEL'] = '3'\n",
    "import collections\n",
    "from etils import epath\n",
    "from ml_collections import config_dict\n",
    "import pandas as pd\n",
    "from chirp.inference import tf_examples\n",
    "from chirp.inference.search import bootstrap\n",
    "from chirp.inference.classify import classify\n",
    "from perch_hoplite.zoo import zoo_interface\n",
    "from pydub import AudioSegment\n",
    "import pandas as pd"
   ]
  },
  {
   "cell_type": "code",
   "execution_count": 2,
   "metadata": {
    "id": "TRETHuu1h7uZ"
   },
   "outputs": [],
   "source": [
    "# Specify species your working on\n",
    "target_class = tuple(pd.read_csv(\"/workspaces/2023_ECCC4_Biodiv/data/custom_classifier/class_list.csv\")['custom'].tolist())\n",
    "#target_class = \"Animals\"\n",
    "\n",
    "# Keep the negative logits?\n",
    "keep_non_detections = False\n",
    "\n",
    "# Set True if using class specific thresholding\n",
    "class_specific_threshold = True\n",
    "\n",
    "# Working dir for saving products\n",
    "working_dir = \"/workspaces/2023_ECCC4_Biodiv/data/\"\n",
    "embeddings_path = working_dir + \"embeddings\"\n",
    "custom_classifier_path = epath.Path(working_dir) / \"custom_classifier\"\n",
    "\n",
    "# Path to save predictions csv\n",
    "output_filepath = working_dir + \"inference_top_44_species/\"\n",
    "os.makedirs(output_filepath, exist_ok=True)"
   ]
  },
  {
   "cell_type": "markdown",
   "metadata": {},
   "source": [
    "## Load model state"
   ]
  },
  {
   "cell_type": "code",
   "execution_count": 3,
   "metadata": {
    "id": "ake6Xk_Hh-nN"
   },
   "outputs": [
    {
     "name": "stdout",
     "output_type": "stream",
     "text": [
      "Loaded custom model with classes: \n",
      "\tAnas platyrhynchos\n",
      "\tBranta canadensis\n",
      "\tCardinalis cardinalis\n",
      "\tCatharus fuscescens\n",
      "\tCerthia americana\n",
      "\tColaptes auratus\n",
      "\tContopus virens\n",
      "\tCorthylio calendula\n",
      "\tCorvus corax\n",
      "\tCyanocitta cristata\n",
      "\tDryobates pubescens\n",
      "\tDryobates villosus\n",
      "\tDryocopus pileatus\n",
      "\tDumetella carolinensis\n",
      "\tEmpidonax alnorum\n",
      "\tEmpidonax minimus\n",
      "\tGeothlypis trichas\n",
      "\tHylocichla mustelina\n",
      "\tIcterus galbula\n",
      "\tJunco hyemalis\n",
      "\tLarus delawarensis\n",
      "\tMelospiza georgiana\n",
      "\tMelospiza melodia\n",
      "\tMniotilta varia\n",
      "\tPheucticus ludovicianus\n",
      "\tPiranga olivacea\n",
      "\tPoecile atricapillus\n",
      "\tRegulus satrapa\n",
      "\tSayornis phoebe\n",
      "\tSeiurus aurocapilla\n",
      "\tSetophaga fusca\n",
      "\tSetophaga magnolia\n",
      "\tSetophaga pensylvanica\n",
      "\tSetophaga petechia\n",
      "\tSetophaga ruticilla\n",
      "\tSetophaga virens\n",
      "\tSitta carolinensis\n",
      "\tSpinus tristis\n",
      "\tTachycineta bicolor\n",
      "\tTroglodytes hiemalis\n",
      "\tTurdus migratorius\n",
      "\tVireo gilvus\n",
      "\tVireo philadelphicus\n",
      "\tZonotrichia albicollis\n"
     ]
    }
   ],
   "source": [
    "# Load Existing Project State and Models.\n",
    "if (embeddings_path or (epath.Path(working_dir) / 'embeddings/config.json').exists()):\n",
    "  if not embeddings_path:\n",
    "    # Use the default embeddings path, as it seems we found a config there.\n",
    "    embeddings_path = epath.Path(working_dir) / 'embeddings'\n",
    "  # Get relevant info from the embedding configuration.\n",
    "  bootstrap_config = bootstrap.BootstrapConfig.load_from_embedding_path(\n",
    "      embeddings_path=embeddings_path,\n",
    "      annotated_path=epath.Path(\"\"))\n",
    "else:\n",
    "  raise ValueError('No embedding configuration found.')\n",
    "\n",
    "project_state = bootstrap.BootstrapState(\n",
    "    bootstrap_config, baw_auth_token='')\n",
    "\n",
    "cfg = config_dict.ConfigDict({\n",
    "    'model_path': custom_classifier_path,\n",
    "    'logits_key': 'custom',\n",
    "})\n",
    "logits_head = zoo_interface.LogitsOutputHead.from_config(cfg)\n",
    "model = logits_head.logits_model\n",
    "class_list = logits_head.class_list\n",
    "print('Loaded custom model with classes: ')\n",
    "print('\\t' + '\\n\\t'.join(class_list.classes))"
   ]
  },
  {
   "cell_type": "markdown",
   "metadata": {},
   "source": [
    "## Use trained model to make predictions"
   ]
  },
  {
   "cell_type": "code",
   "execution_count": 4,
   "metadata": {},
   "outputs": [],
   "source": [
    "# This cell writes detections (locations of audio windows where\n",
    "# the logit was greater than a threshold) to a CSV file.\n",
    "#output_filepath_name = output_filepath + target_class + \".csv\"\n",
    "output_filepath_name = output_filepath  + \"custom_logit_threshold.csv\"\n",
    "\n",
    "# Set the default detection thresholds, used for all classes.\n",
    "# To set per-class detection thresholds, modify the code below.\n",
    "# Keep in mind that thresholds are on the logit scale, so 0.0\n",
    "# corresponds to a 50% model confidence.\n",
    "default_threshold = 0.0\n",
    "\n",
    "if default_threshold is None:\n",
    "  # In this case, all logits are written. This can lead to very large CSV files.\n",
    "  class_thresholds = None\n",
    "else:\n",
    "  class_thresholds = collections.defaultdict(lambda: default_threshold)\n",
    "  for tar in target_class:\n",
    "    class_thresholds[tar] = default_threshold\n",
    "\n",
    "if class_specific_threshold:\n",
    "  # Set per-class thresholds here.\n",
    "  class_thresholds = collections.defaultdict(lambda: default_threshold)\n",
    "  class_thresholds['Anas platyrhynchos'] = 0.0\n",
    "  class_thresholds['Branta canadensis'] = 0.0\n",
    "  class_thresholds['Cardinalis cardinalis'] = 0.0\n",
    "  class_thresholds['Catharus fuscescens'] = 0.0\n",
    "  class_thresholds['Certhia americana'] = 0.7\n",
    "  class_thresholds['Charadrius vociferus'] = 0.0\n",
    "  class_thresholds['Colaptes auratus'] = 0.0\n",
    "  class_thresholds['Contopus virens'] = 0.0\n",
    "  class_thresholds['Corthylio calendula'] = 0.0\n",
    "  class_thresholds['Corvus brachyrhynchos'] = 0.0\n",
    "  class_thresholds['Corvus corax'] = 0.0\n",
    "  class_thresholds['Cyanocitta cristata'] = 0.0\n",
    "  class_thresholds['Dolichonyx oryzivorus'] = 0.0\n",
    "  class_thresholds['Dryobates pubescens'] = 0.0\n",
    "  class_thresholds['Dryobates villosus'] = 0.0\n",
    "  class_thresholds['Dryocopus pileatus'] = 0.0\n",
    "  class_thresholds['Dumetella carolinensis'] = 0.0\n",
    "  class_thresholds['Empidonax alnorum'] = 0.0\n",
    "  class_thresholds['Empidonax flaviventris'] = 0.0\n",
    "  class_thresholds['Empidonax minimus'] = 0.0\n",
    "  class_thresholds['Geothlypis trichas'] = 0.0\n",
    "  class_thresholds['Hirundo rustica'] = 0.0\n",
    "  class_thresholds['Hylocichla mustelina'] = 0.0\n",
    "  class_thresholds['Icterus galbula'] = 0.4\n",
    "  class_thresholds['Junco hyemalis'] = 0.0\n",
    "  class_thresholds['Larus delawarensis'] = 0.0\n",
    "  class_thresholds['Leiothlypis ruficapilla'] = 0.0\n",
    "  class_thresholds['Melospiza georgiana'] = 0.0\n",
    "  class_thresholds['Melospiza melodia'] = 0.0\n",
    "  class_thresholds['Mniotilta varia'] = 0.0\n",
    "  class_thresholds['Pheucticus ludovicianus'] = 0.0\n",
    "  class_thresholds['Piranga olivacea'] = 0.0\n",
    "  class_thresholds['Podilymbus podiceps'] = 0.0\n",
    "  class_thresholds['Poecile atricapillus'] = 0.0\n",
    "  class_thresholds['Regulus satrapa'] = 0.0\n",
    "  class_thresholds['Sayornis phoebe'] = 0.0\n",
    "  class_thresholds['Seiurus aurocapilla'] = 0.0\n",
    "  class_thresholds['Setophaga caerulescens'] = 0.0\n",
    "  class_thresholds['Setophaga fusca'] = 0.0\n",
    "  class_thresholds['Setophaga magnolia'] = 0.0\n",
    "  class_thresholds['Setophaga pensylvanica'] = 0.0\n",
    "  class_thresholds['Setophaga petechia'] = 0.0\n",
    "  class_thresholds['Setophaga ruticilla'] = 0.0\n",
    "  class_thresholds['Setophaga striata'] = 0.0\n",
    "  class_thresholds['Setophaga tigrina'] = 0.0\n",
    "  class_thresholds['Setophaga virens'] = 0.95\n",
    "  class_thresholds['Sitta carolinensis'] = 0.0\n",
    "  class_thresholds['Spinus pinus'] = 0.0\n",
    "  class_thresholds['Spinus tristis'] = 0.0\n",
    "  class_thresholds['Sturnella magna'] = 0.0 \n",
    "  class_thresholds['Tachycineta bicolor'] = 0.0\n",
    "  class_thresholds['Troglodytes hiemalis'] = 0.0\n",
    "  class_thresholds['Turdus migratorius'] = 0.0\n",
    "  class_thresholds['Vireo gilvus'] = 0.0\n",
    "  class_thresholds['Vireo philadelphicus'] = 0.0\n",
    "  class_thresholds['Vireo solitarius'] = 0.0\n",
    "  class_thresholds['Zonotrichia albicollis'] = 0.0\n",
    "\n",
    "# Classes to ignore when counting detections.\n",
    "exclude_classes = [] \n",
    "\n",
    "# The `include_classes` list is ignored if empty.\n",
    "# If non-empty, only scores for these classes will be written.\n",
    "include_classes = []"
   ]
  },
  {
   "cell_type": "code",
   "execution_count": 5,
   "metadata": {
    "id": "Ur03VoLyuBHR"
   },
   "outputs": [
    {
     "name": "stderr",
     "output_type": "stream",
     "text": [
      "50it [00:00, 476.66it/s]"
     ]
    },
    {
     "name": "stdout",
     "output_type": "stream",
     "text": [
      "\n",
      "\n",
      "\n",
      "   Detection count:  154\n",
      "NonDetection count:  26246\n"
     ]
    },
    {
     "name": "stderr",
     "output_type": "stream",
     "text": [
      "\n"
     ]
    }
   ],
   "source": [
    "# Make predictions\n",
    "embeddings_ds = tf_examples.create_embeddings_dataset(\n",
    "    embeddings_path, file_glob='embeddings-*')\n",
    "\n",
    "classify.write_inference_csv(\n",
    "    embeddings_ds=embeddings_ds,\n",
    "    model=logits_head,\n",
    "    labels=class_list.classes,\n",
    "    output_filepath=output_filepath_name,\n",
    "    threshold=class_thresholds,\n",
    "    embedding_hop_size_s=bootstrap_config.embedding_hop_size_s,\n",
    "    include_classes=include_classes,\n",
    "    exclude_classes=exclude_classes,\n",
    "    keep_non_detections=keep_non_detections)\n",
    "\n",
    "# large dataset (e.g. 1000 observations)  = 600 detections\n",
    "# smaller random = 408\n",
    "# smaller top = 184 \n",
    "# larger top (44species) = 352"
   ]
  },
  {
   "cell_type": "markdown",
   "metadata": {},
   "source": [
    "## Move correctly predicted labels"
   ]
  },
  {
   "cell_type": "code",
   "execution_count": null,
   "metadata": {},
   "outputs": [],
   "source": [
    "# Load file containing predictions\n",
    "predictions = pd.read_csv(output_filepath_name)\n",
    "\n",
    "# Filter to target class\n",
    "predictions = predictions[predictions.iloc[:,2] == target_class]\n",
    "\n",
    "# Sort highest to lowest logits\n",
    "predictions = predictions.sort_values(by=\" logit\", ascending=False)\n",
    "\n",
    "# Select top 100 examples\n",
    "predictions = predictions.head(100)\n",
    "\n",
    "# Path to move files\n",
    "label_location =  working_dir + \"labels_noise/\" + target_class + target_class\n",
    "\n",
    "# Loop over rows, extract snippets and save to folder\n",
    "for _, row in predictions.iterrows():\n",
    "    file_path = row[\"filename\"]  # Full path to the WAV file\n",
    "    timestamp = row[\" timestamp_s\"]  # Start time in seconds\n",
    "\n",
    "    # Load the WAV file\n",
    "    audio = AudioSegment.from_wav(file_path)\n",
    "\n",
    "    # Compute start and end times in milliseconds\n",
    "    start_time = int(timestamp * 1000)\n",
    "    end_time = start_time + 5000  # 5 seconds later\n",
    "\n",
    "    # Clip the audio\n",
    "    clipped_audio = audio[start_time:end_time]\n",
    "\n",
    "    # Extract original file name without path\n",
    "    base_name = os.path.basename(file_path)  # e.g., \"20231113_234000.WAV\"\n",
    "    name, ext = os.path.splitext(base_name)  # Split into name and extension\n",
    "\n",
    "    # Create new filename with timestamp appended\n",
    "    new_filename = f\"{target_class}_{name}_{int(timestamp)}.wav\"\n",
    "    output_path = os.path.join(label_location, new_filename)\n",
    "\n",
    "    # Save the clipped audio\n",
    "    clipped_audio.export(output_path, format=\"wav\")"
   ]
  }
 ],
 "metadata": {
  "colab": {
   "private_outputs": true,
   "toc_visible": true
  },
  "kernelspec": {
   "display_name": "Python 3",
   "name": "python3"
  },
  "language_info": {
   "codemirror_mode": {
    "name": "ipython",
    "version": 3
   },
   "file_extension": ".py",
   "mimetype": "text/x-python",
   "name": "python",
   "nbconvert_exporter": "python",
   "pygments_lexer": "ipython3",
   "version": "2.7.undefined"
  }
 },
 "nbformat": 4,
 "nbformat_minor": 0
}
