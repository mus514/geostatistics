{
 "cells": [
  {
   "cell_type": "markdown",
   "metadata": {
    "id": "UEoybFElAON3"
   },
   "source": [
    "# Agile Modeling for Bioacoustics.\n",
    "\n",
    "This notebook provides a workflow for creating custom classifiers for target signals, by first **searching** for training data, and then engaging in an **active learning** loop.\n",
    "\n",
    "We assume that embeddings have been pre-computed using `embed.ipynb`."
   ]
  },
  {
   "cell_type": "markdown",
   "metadata": {
    "id": "gntw2Wq9Atpp"
   },
   "source": [
    "## Configuration and Imports."
   ]
  },
  {
   "cell_type": "code",
   "execution_count": 1,
   "metadata": {
    "id": "58HLTIdcAzte"
   },
   "outputs": [],
   "source": [
    "import os\n",
    "os.environ['TF_CPP_MIN_LOG_LEVEL'] = '3'\n",
    "import collections\n",
    "from etils import epath\n",
    "import matplotlib.pyplot as plt\n",
    "import numpy as np\n",
    "import tqdm\n",
    "from chirp.inference import colab_utils\n",
    "from perch_hoplite.taxonomy import namespace\n",
    "from chirp.inference.search import bootstrap\n",
    "from chirp.inference.search import search\n",
    "from chirp.inference.classify import classify\n",
    "from chirp.inference.classify import data_lib\n",
    "from perch_hoplite.zoo import zoo_interface"
   ]
  },
  {
   "cell_type": "code",
   "execution_count": 2,
   "metadata": {
    "id": "_fMOBVK9A_O1"
   },
   "outputs": [],
   "source": [
    "# Working dir for saving products\n",
    "working_dir = \"/workspaces/2023_ECCC4_Biodiv/data/\"\n",
    "embeddings_path = working_dir + \"embeddings\"\n",
    "custom_classifier_path = epath.Path(working_dir) / \"custom_classifier\"\n",
    "plot_path = \"/workspaces/2023_ECCC4_Biodiv/data/plots\"\n",
    "os.makedirs(plot_path, exist_ok=True)\n",
    "\n",
    "# Label path\n",
    "# It will identify all the folders with species audio data in\n",
    "# The folder names need to match the species name, as it \n",
    "# is used as the class label.\n",
    "# If only one species folder present, then only one class will be used\n",
    "labeled_data_path = epath.Path(working_dir) / \"labels_top_large\""
   ]
  },
  {
   "cell_type": "code",
   "execution_count": 3,
   "metadata": {
    "id": "2c4gJ6S2ETKu"
   },
   "outputs": [],
   "source": [
    "# Load model state\n",
    "if (embeddings_path or (epath.Path(working_dir) / 'embeddings/config.json').exists()):\n",
    "  if not embeddings_path:\n",
    "    # Use the default embeddings path, as it seems we found a config there.\n",
    "    embeddings_path = epath.Path(working_dir) / 'embeddings'\n",
    "  # Get relevant info from the embedding configuration.\n",
    "  bootstrap_config = bootstrap.BootstrapConfig.load_from_embedding_path(\n",
    "      embeddings_path=embeddings_path,annotated_path=labeled_data_path)\n",
    "else:\n",
    "  raise ValueError('No embedding configuration found.')\n",
    "\n",
    "project_state = bootstrap.BootstrapState(\n",
    "    bootstrap_config, baw_auth_token='')"
   ]
  },
  {
   "cell_type": "markdown",
   "metadata": {
    "id": "ZbZkOXncFYKm"
   },
   "source": [
    "## Embed labeled data"
   ]
  },
  {
   "cell_type": "code",
   "execution_count": 4,
   "metadata": {
    "id": "NcLdypLeHmss"
   },
   "outputs": [
    {
     "name": "stdout",
     "output_type": "stream",
     "text": [
      "Embedding from Folder of Folders...\n",
      "Checking for existing embeddings from Folder of Folders...\n",
      "Found 0 existing embeddings.\n",
      "Checking for new sources to embed from Folder of Folders...\n"
     ]
    },
    {
     "name": "stderr",
     "output_type": "stream",
     "text": [
      "0it [00:00, ?it/s]WARNING: All log messages before absl::InitializeLog() is called are written to STDERR\n",
      "I0000 00:00:1742402102.879848    2176 service.cc:145] XLA service 0x56465d5962f0 initialized for platform CUDA (this does not guarantee that XLA will be used). Devices:\n",
      "I0000 00:00:1742402102.879899    2176 service.cc:153]   StreamExecutor device (0): NVIDIA GeForce RTX 3070 Ti Laptop GPU, Compute Capability 8.6\n",
      "W0000 00:00:1742402103.128559    2176 assert_op.cc:38] Ignoring Assert operator jax2tf_infer_fn_/assert_equal_1/Assert/AssertGuard/Assert\n",
      "I0000 00:00:1742402109.024791    2176 device_compiler.h:188] Compiled cluster using XLA!  This line is logged at most once for the lifetime of the process.\n",
      "500it [00:12, 40.34it/s] \n",
      "500it [00:05, 99.46it/s] \n",
      "500it [00:10, 49.95it/s] \n",
      "500it [00:05, 98.95it/s] \n",
      "500it [00:06, 81.91it/s] \n",
      "500it [00:05, 99.08it/s] \n",
      "500it [00:04, 105.10it/s]\n",
      "500it [00:04, 106.64it/s]\n",
      "500it [00:08, 60.96it/s] \n",
      "500it [00:04, 105.09it/s]\n",
      "500it [00:04, 107.39it/s]\n",
      "500it [00:05, 99.23it/s] \n",
      "500it [00:04, 109.78it/s]\n",
      "500it [00:04, 107.44it/s]\n",
      "500it [00:04, 112.68it/s]\n",
      "500it [00:08, 60.92it/s] \n",
      "500it [00:04, 106.02it/s]\n",
      "500it [00:04, 110.11it/s]\n",
      "433it [00:04, 107.77it/s]\n",
      "500it [00:04, 108.56it/s]\n",
      "474it [00:04, 113.00it/s]\n",
      "500it [00:07, 64.65it/s] \n",
      "500it [00:04, 110.79it/s]\n",
      "500it [00:04, 106.11it/s]\n",
      "500it [00:04, 107.58it/s]\n",
      "500it [00:05, 92.67it/s] \n",
      "500it [00:04, 104.96it/s]\n",
      "500it [00:07, 62.50it/s] \n",
      "500it [00:04, 102.05it/s]\n",
      "500it [00:04, 103.44it/s]\n",
      "500it [00:04, 103.58it/s]\n",
      "500it [00:05, 93.91it/s] \n",
      "500it [00:05, 99.11it/s] \n",
      "500it [00:09, 55.43it/s] \n",
      "500it [00:05, 96.66it/s] \n",
      "500it [00:04, 102.38it/s]\n",
      "500it [00:04, 103.41it/s]\n",
      "500it [00:04, 104.35it/s]\n",
      "500it [00:04, 107.73it/s]\n",
      "435it [00:04, 104.36it/s]\n",
      "500it [00:08, 62.13it/s] \n",
      "500it [00:04, 103.96it/s]\n",
      "500it [00:04, 104.79it/s]\n",
      "500it [00:04, 106.23it/s]\n"
     ]
    },
    {
     "name": "stdout",
     "output_type": "stream",
     "text": [
      "\n",
      "...embedded dataset in 245.37s...\n",
      "    found 44 classes.\n",
      "    class Anas platyrhynchos / 0 : 500\n",
      "    class Branta canadensis / 1 : 500\n",
      "    class Cardinalis cardinalis / 2 : 500\n",
      "    class Catharus fuscescens / 3 : 500\n",
      "    class Certhia americana / 4 : 500\n",
      "    class Colaptes auratus / 5 : 500\n",
      "    class Contopus virens / 6 : 500\n",
      "    class Corthylio calendula / 7 : 500\n",
      "    class Corvus corax / 8 : 500\n",
      "    class Cyanocitta cristata / 9 : 500\n",
      "    class Dryobates pubescens / 10 : 500\n",
      "    class Dryobates villosus / 11 : 500\n",
      "    class Dryocopus pileatus / 12 : 500\n",
      "    class Dumetella carolinensis / 13 : 500\n",
      "    class Empidonax alnorum / 14 : 500\n",
      "    class Empidonax minimus / 15 : 500\n",
      "    class Geothlypis trichas / 16 : 500\n",
      "    class Hylocichla mustelina / 17 : 500\n",
      "    class Icterus galbula / 18 : 433\n",
      "    class Junco hyemalis / 19 : 500\n",
      "    class Larus delawarensis / 20 : 474\n",
      "    class Melospiza georgiana / 21 : 500\n",
      "    class Melospiza melodia / 22 : 500\n",
      "    class Mniotilta varia / 23 : 500\n",
      "    class Pheucticus ludovicianus / 24 : 500\n",
      "    class Piranga olivacea / 25 : 500\n",
      "    class Poecile atricapillus / 26 : 500\n",
      "    class Regulus satrapa / 27 : 500\n",
      "    class Sayornis phoebe / 28 : 500\n",
      "    class Seiurus aurocapilla / 29 : 500\n",
      "    class Setophaga fusca / 30 : 500\n",
      "    class Setophaga magnolia / 31 : 500\n",
      "    class Setophaga pensylvanica / 32 : 500\n",
      "    class Setophaga petechia / 33 : 500\n",
      "    class Setophaga ruticilla / 34 : 500\n",
      "    class Setophaga virens / 35 : 500\n",
      "    class Sitta carolinensis / 36 : 500\n",
      "    class Spinus tristis / 37 : 500\n",
      "    class Tachycineta bicolor / 38 : 500\n",
      "    class Troglodytes hiemalis / 39 : 435\n",
      "    class Turdus migratorius / 40 : 500\n",
      "    class Vireo gilvus / 41 : 500\n",
      "    class Vireo philadelphicus / 42 : 500\n",
      "    class Zonotrichia albicollis / 43 : 500\n",
      "num classes : 44\n",
      "mean ex / class : 496.40909090909093\n",
      "min ex / class : 433.0\n"
     ]
    }
   ],
   "source": [
    "# Load+Embed the Labeled Dataset\n",
    "merged = data_lib.MergedDataset.from_folder_of_folders(\n",
    "    base_dir=labeled_data_path,\n",
    "    embedding_model=project_state.embedding_model,\n",
    "    time_pooling='mean',\n",
    "    load_audio=False,\n",
    "    target_sample_rate=-2,\n",
    "    audio_file_pattern='*',\n",
    "    embedding_config_hash=bootstrap_config.embedding_config_hash(),\n",
    ")\n",
    "\n",
    "# Label distribution\n",
    "lbl_counts = np.sum(merged.data['label_hot'], axis=0)\n",
    "print('num classes :', (lbl_counts > 0).sum())\n",
    "print('mean ex / class :', lbl_counts.sum() / (lbl_counts > 0).sum())\n",
    "print('min ex / class :', (lbl_counts + (lbl_counts == 0) * 1e6).min())"
   ]
  },
  {
   "cell_type": "markdown",
   "metadata": {},
   "source": [
    "## Train classifier using embeded labels"
   ]
  },
  {
   "cell_type": "code",
   "execution_count": 5,
   "metadata": {
    "id": "7mY5rIiDHoE0"
   },
   "outputs": [
    {
     "name": "stderr",
     "output_type": "stream",
     "text": [
      "100%|██████████| 3/3 [20:10<00:00, 403.63s/it]\n"
     ]
    },
    {
     "name": "stdout",
     "output_type": "stream",
     "text": [
      "acc: 0.99, auc_roc: 1.00, cmap: 1.00\n",
      "\n",
      "Anas platyrhynchos, auc_roc: 1.00\n",
      "test_logits(Anas platyrhynchos) : \tshape:           (300,)\tmin:  -8.01\tmean:  17.42\tmax:  33.47\tstd:   8.13\n",
      "\n",
      "Branta canadensis, auc_roc: 1.00\n",
      "test_logits(Branta canadensis) : \tshape:           (300,)\tmin:   1.36\tmean:  17.34\tmax:  26.17\tstd:   4.67\n",
      "\n",
      "Cardinalis cardinalis, auc_roc: 1.00\n",
      "test_logits(Cardinalis cardinalis) : \tshape:           (300,)\tmin:  -2.38\tmean:  16.07\tmax:  25.53\tstd:   4.53\n",
      "\n",
      "Catharus fuscescens, auc_roc: 1.00\n",
      "test_logits(Catharus fuscescens) : \tshape:           (300,)\tmin:  -4.83\tmean:  18.27\tmax:  33.33\tstd:   6.47\n",
      "\n",
      "Certhia americana, auc_roc: 1.00\n",
      "test_logits(Certhia americana) : \tshape:           (300,)\tmin:  -6.69\tmean:  11.76\tmax:  25.74\tstd:   5.64\n",
      "\n",
      "Colaptes auratus, auc_roc: 1.00\n",
      "test_logits(Colaptes auratus) : \tshape:           (300,)\tmin:  -4.87\tmean:  15.59\tmax:  24.90\tstd:   5.52\n",
      "\n",
      "Contopus virens, auc_roc: 1.00\n",
      "test_logits(Contopus virens) : \tshape:           (300,)\tmin:   5.10\tmean:  18.84\tmax:  29.81\tstd:   4.54\n",
      "\n",
      "Corthylio calendula, auc_roc: 1.00\n",
      "test_logits(Corthylio calendula) : \tshape:           (300,)\tmin:   1.33\tmean:  16.24\tmax:  29.73\tstd:   5.67\n",
      "\n",
      "Corvus corax, auc_roc: 1.00\n",
      "test_logits(Corvus corax) : \tshape:           (300,)\tmin: -11.29\tmean:  16.48\tmax:  31.96\tstd:   6.32\n",
      "\n",
      "Cyanocitta cristata, auc_roc: 1.00\n",
      "test_logits(Cyanocitta cristata) : \tshape:           (300,)\tmin:  -0.46\tmean:  18.42\tmax:  33.19\tstd:   6.07\n",
      "\n",
      "Dryobates pubescens, auc_roc: 1.00\n",
      "test_logits(Dryobates pubescens) : \tshape:           (300,)\tmin:  -3.13\tmean:  16.94\tmax:  28.82\tstd:   5.13\n",
      "\n",
      "Dryobates villosus, auc_roc: 1.00\n",
      "test_logits(Dryobates villosus) : \tshape:           (300,)\tmin: -11.50\tmean:  17.59\tmax:  29.03\tstd:   5.85\n",
      "\n",
      "Dryocopus pileatus, auc_roc: 1.00\n",
      "test_logits(Dryocopus pileatus) : \tshape:           (300,)\tmin:  -7.58\tmean:  17.42\tmax:  31.51\tstd:   6.16\n",
      "\n",
      "Dumetella carolinensis, auc_roc: 1.00\n",
      "test_logits(Dumetella carolinensis) : \tshape:           (300,)\tmin: -20.76\tmean:  14.46\tmax:  31.17\tstd:   6.91\n",
      "\n",
      "Empidonax alnorum, auc_roc: 1.00\n",
      "test_logits(Empidonax alnorum) : \tshape:           (300,)\tmin:  -4.36\tmean:  17.53\tmax:  31.27\tstd:   6.44\n",
      "\n",
      "Empidonax minimus, auc_roc: 1.00\n",
      "test_logits(Empidonax minimus) : \tshape:           (300,)\tmin:  -3.25\tmean:  16.28\tmax:  29.33\tstd:   5.18\n",
      "\n",
      "Geothlypis trichas, auc_roc: 1.00\n",
      "test_logits(Geothlypis trichas) : \tshape:           (300,)\tmin:  -4.37\tmean:  14.76\tmax:  31.15\tstd:   5.53\n",
      "\n",
      "Hylocichla mustelina, auc_roc: 1.00\n",
      "test_logits(Hylocichla mustelina) : \tshape:           (300,)\tmin:  -8.31\tmean:  17.46\tmax:  38.22\tstd:   6.04\n",
      "\n",
      "Icterus galbula, auc_roc: 1.00\n",
      "test_logits(Icterus galbula) : \tshape:           (258,)\tmin: -12.44\tmean:  15.96\tmax:  29.53\tstd:   7.52\n",
      "\n",
      "Junco hyemalis, auc_roc: 1.00\n",
      "test_logits(Junco hyemalis) : \tshape:           (300,)\tmin:  -7.30\tmean:  18.67\tmax:  35.79\tstd:   8.03\n",
      "\n",
      "Larus delawarensis, auc_roc: 1.00\n",
      "test_logits(Larus delawarensis) : \tshape:           (282,)\tmin:  -2.60\tmean:  19.32\tmax:  38.34\tstd:   7.37\n",
      "\n",
      "Melospiza georgiana, auc_roc: 1.00\n",
      "test_logits(Melospiza georgiana) : \tshape:           (300,)\tmin:   0.94\tmean:  14.57\tmax:  25.08\tstd:   4.34\n",
      "\n",
      "Melospiza melodia, auc_roc: 1.00\n",
      "test_logits(Melospiza melodia) : \tshape:           (300,)\tmin:  -3.67\tmean:  14.10\tmax:  26.21\tstd:   5.35\n",
      "\n",
      "Mniotilta varia, auc_roc: 1.00\n",
      "test_logits(Mniotilta varia) : \tshape:           (300,)\tmin:   0.25\tmean:  16.62\tmax:  26.37\tstd:   4.99\n",
      "\n",
      "Pheucticus ludovicianus, auc_roc: 1.00\n",
      "test_logits(Pheucticus ludovicianus) : \tshape:           (300,)\tmin:  -5.53\tmean:  18.96\tmax:  38.53\tstd:   8.55\n",
      "\n",
      "Piranga olivacea, auc_roc: 1.00\n",
      "test_logits(Piranga olivacea) : \tshape:           (300,)\tmin:  -8.55\tmean:  17.58\tmax:  33.45\tstd:   6.08\n",
      "\n",
      "Poecile atricapillus, auc_roc: 1.00\n",
      "test_logits(Poecile atricapillus) : \tshape:           (300,)\tmin:  -9.08\tmean:  14.68\tmax:  26.78\tstd:   5.92\n",
      "\n",
      "Regulus satrapa, auc_roc: 1.00\n",
      "test_logits(Regulus satrapa) : \tshape:           (300,)\tmin: -16.34\tmean:  15.67\tmax:  45.03\tstd:  10.28\n",
      "\n",
      "Sayornis phoebe, auc_roc: 1.00\n",
      "test_logits(Sayornis phoebe) : \tshape:           (300,)\tmin:  -1.60\tmean:  12.52\tmax:  21.52\tstd:   3.84\n",
      "\n",
      "Seiurus aurocapilla, auc_roc: 1.00\n",
      "test_logits(Seiurus aurocapilla) : \tshape:           (300,)\tmin:   3.94\tmean:  15.73\tmax:  21.99\tstd:   3.01\n",
      "\n",
      "Setophaga fusca, auc_roc: 1.00\n",
      "test_logits(Setophaga fusca) : \tshape:           (300,)\tmin: -11.06\tmean:  18.00\tmax:  30.24\tstd:   5.75\n",
      "\n",
      "Setophaga magnolia, auc_roc: 1.00\n",
      "test_logits(Setophaga magnolia) : \tshape:           (300,)\tmin:  -5.80\tmean:  16.61\tmax:  34.73\tstd:   7.80\n",
      "\n",
      "Setophaga pensylvanica, auc_roc: 1.00\n",
      "test_logits(Setophaga pensylvanica) : \tshape:           (300,)\tmin:  -0.87\tmean:  15.41\tmax:  30.66\tstd:   5.32\n",
      "\n",
      "Setophaga petechia, auc_roc: 1.00\n",
      "test_logits(Setophaga petechia) : \tshape:           (300,)\tmin: -10.85\tmean:  14.15\tmax:  26.03\tstd:   5.62\n",
      "\n",
      "Setophaga ruticilla, auc_roc: 1.00\n",
      "test_logits(Setophaga ruticilla) : \tshape:           (300,)\tmin: -11.60\tmean:  16.47\tmax:  28.42\tstd:   6.15\n",
      "\n",
      "Setophaga virens, auc_roc: 1.00\n",
      "test_logits(Setophaga virens) : \tshape:           (300,)\tmin:  -2.92\tmean:  14.85\tmax:  32.57\tstd:   6.06\n",
      "\n",
      "Sitta carolinensis, auc_roc: 1.00\n",
      "test_logits(Sitta carolinensis) : \tshape:           (300,)\tmin:  -7.90\tmean:  16.94\tmax:  31.51\tstd:   6.46\n",
      "\n",
      "Spinus tristis, auc_roc: 1.00\n",
      "test_logits(Spinus tristis) : \tshape:           (300,)\tmin:  -0.10\tmean:  16.40\tmax:  34.20\tstd:   6.45\n",
      "\n",
      "Tachycineta bicolor, auc_roc: 1.00\n",
      "test_logits(Tachycineta bicolor) : \tshape:           (300,)\tmin:  -5.77\tmean:  15.64\tmax:  33.34\tstd:   6.43\n",
      "\n",
      "Troglodytes hiemalis, auc_roc: 1.00\n",
      "test_logits(Troglodytes hiemalis) : \tshape:           (261,)\tmin:  -6.74\tmean:  12.32\tmax:  29.23\tstd:   7.59\n",
      "\n",
      "Turdus migratorius, auc_roc: 1.00\n",
      "test_logits(Turdus migratorius) : \tshape:           (300,)\tmin: -10.85\tmean:  14.62\tmax:  28.61\tstd:   5.17\n",
      "\n",
      "Vireo gilvus, auc_roc: 1.00\n",
      "test_logits(Vireo gilvus) : \tshape:           (300,)\tmin:  -5.75\tmean:  15.73\tmax:  31.54\tstd:   6.54\n",
      "\n",
      "Vireo philadelphicus, auc_roc: 1.00\n",
      "test_logits(Vireo philadelphicus) : \tshape:           (300,)\tmin:  -8.57\tmean:  14.56\tmax:  29.67\tstd:   6.11\n",
      "\n",
      "Zonotrichia albicollis, auc_roc: 1.00\n",
      "test_logits(Zonotrichia albicollis) : \tshape:           (300,)\tmin:  -6.31\tmean:  16.23\tmax:  46.67\tstd:   6.43\n"
     ]
    }
   ],
   "source": [
    "# Train small model over embeddings\n",
    "\n",
    "# Number of random training examples to choose form each class.\n",
    "# Set exactly one of `train_ratio` and `train_examples_per_class`.\n",
    "# Adjust `train_ratio` if dataset is smaller than 9 observations\n",
    "# Otherwise you will get error: \"IndexError: arrays used as indices must be of integer (or boolean) type\"\n",
    "train_ratio = 0.8\n",
    "train_examples_per_class = None\n",
    "\n",
    "# Number of random re-trainings. Allows judging model stability.\n",
    "num_seeds = 3\n",
    "\n",
    "# Classifier training hyperparams.\n",
    "# These should be good defaults.\n",
    "batch_size = 16          # 32\n",
    "num_epochs = 128         # 128\n",
    "num_hiddens = -1          # -1\n",
    "batch_norm = False\n",
    "learning_rate = 1e-3\n",
    "\n",
    "metrics = collections.defaultdict(list)\n",
    "for seed in tqdm.tqdm(range(num_seeds)):\n",
    "  if num_hiddens > 0:\n",
    "    model = classify.get_two_layer_model(\n",
    "        num_hiddens,\n",
    "        merged.embedding_dim,\n",
    "        merged.num_classes,\n",
    "        batch_norm=batch_norm)\n",
    "  else:\n",
    "    model = classify.get_linear_model(\n",
    "        merged.embedding_dim,\n",
    "        merged.num_classes)\n",
    "  run_metrics = classify.train_embedding_model(\n",
    "      model,\n",
    "      merged,\n",
    "      train_ratio,\n",
    "      train_examples_per_class,\n",
    "      num_epochs,\n",
    "      seed,\n",
    "      batch_size,\n",
    "      learning_rate)\n",
    "  metrics['acc'].append(run_metrics.top1_accuracy)\n",
    "  metrics['auc_roc'].append(run_metrics.auc_roc)\n",
    "  metrics['cmap'].append(run_metrics.cmap_value)\n",
    "  metrics['maps'].append(run_metrics.class_maps)\n",
    "  metrics['test_logits'].append(run_metrics.test_logits)\n",
    "\n",
    "mean_acc = np.mean(metrics['acc'])\n",
    "mean_auc = np.mean(metrics['auc_roc'])\n",
    "mean_cmap = np.mean(metrics['cmap'])\n",
    "\n",
    "# Merge the test_logits into a single array.\n",
    "test_logits = {\n",
    "    k: np.concatenate([logits[k] for logits in metrics['test_logits']])\n",
    "    for k in metrics['test_logits'][0].keys()\n",
    "}\n",
    "\n",
    "print(f'acc:{mean_acc:5.2f}, auc_roc:{mean_auc:5.2f}, cmap:{mean_cmap:5.2f}')\n",
    "for lbl, auc in zip(merged.labels, run_metrics.class_maps):\n",
    "  if np.isnan(auc):\n",
    "    continue\n",
    "  print(f'\\n{lbl:8s}, auc_roc:{auc:5.2f}')\n",
    "  colab_utils.prstats(f'test_logits({lbl})',\n",
    "                      test_logits[merged.labels.index(lbl)])"
   ]
  },
  {
   "cell_type": "markdown",
   "metadata": {},
   "source": [
    "## Test classifier on unlabeled embedded data"
   ]
  },
  {
   "cell_type": "code",
   "execution_count": 11,
   "metadata": {
    "id": "-0Kg43YhH0p3"
   },
   "outputs": [
    {
     "name": "stderr",
     "output_type": "stream",
     "text": [
      "263929it [02:00, 2188.13it/s]\n"
     ]
    },
    {
     "data": {
      "image/png": "[encoded data removed]",
      "text/plain": [
       "<Figure size 640x480 with 1 Axes>"
      ]
     },
     "metadata": {},
     "output_type": "display_data"
    }
   ],
   "source": [
    "# Run model on target unlabeled data.\n",
    "\n",
    "# Specify target class for testing\n",
    "target_class = \"Animals\"\n",
    "\n",
    "# Choose a target logit; will display results close to the target.\n",
    "# Set to None to get the highest-logit examples.\n",
    "target_logit = 0.0\n",
    "\n",
    "# Number of results to display.\n",
    "num_results = 50\n",
    "\n",
    "embeddings_ds = project_state.create_embeddings_dataset(\n",
    "    shuffle_files=True)\n",
    "\n",
    "target_class_idx = merged.labels.index(target_class)\n",
    "\n",
    "results, all_logits = search.classifer_search_embeddings_parallel(\n",
    "    embeddings_classifier=model,\n",
    "    target_index=target_class_idx,\n",
    "    embeddings_dataset=embeddings_ds,\n",
    "    hop_size_s=bootstrap_config.embedding_hop_size_s,\n",
    "    target_score=target_logit,\n",
    "    top_k=num_results\n",
    ")\n",
    "\n",
    "# Plot the histogram of logits.\n",
    "ys, _, _ = plt.hist(all_logits, bins=128, density=True)\n",
    "plt.xlabel(f'{target_class} logit')\n",
    "plt.ylabel('density')\n",
    "plt.plot([target_logit, target_logit], [0.0, np.max(ys)], 'r:')\n",
    "\n",
    "# Save plot\n",
    "plot_path_name = plot_path + \"/\" + target_class + \"_histogram_logits.png\"\n",
    "plt.savefig(plot_path_name)\n",
    "\n",
    "# View\n",
    "plt.show()"
   ]
  },
  {
   "cell_type": "markdown",
   "metadata": {},
   "source": [
    "## Save model"
   ]
  },
  {
   "cell_type": "code",
   "execution_count": 6,
   "metadata": {
    "id": "ZxasEcnhd7kP"
   },
   "outputs": [
    {
     "name": "stdout",
     "output_type": "stream",
     "text": [
      "INFO:tensorflow:Assets written to: /workspaces/2023_ECCC4_Biodiv/data/custom_classifier/assets\n"
     ]
    },
    {
     "name": "stderr",
     "output_type": "stream",
     "text": [
      "INFO:tensorflow:Assets written to: /workspaces/2023_ECCC4_Biodiv/data/custom_classifier/assets\n"
     ]
    }
   ],
   "source": [
    "# Save the Custom Classifier.\n",
    "wrapped_model = zoo_interface.LogitsOutputHead(\n",
    "    model_path=custom_classifier_path.as_posix(),\n",
    "    logits_key='logits',\n",
    "    logits_model=model,\n",
    "    class_list=namespace.ClassList('custom', merged.labels),\n",
    ")\n",
    "wrapped_model.save_model(\n",
    "    custom_classifier_path,\n",
    "    embeddings_path)"
   ]
  }
 ],
 "metadata": {
  "colab": {
   "private_outputs": true,
   "toc_visible": true
  },
  "kernelspec": {
   "display_name": "Python 3",
   "name": "python3"
  },
  "language_info": {
   "codemirror_mode": {
    "name": "ipython",
    "version": 3
   },
   "file_extension": ".py",
   "mimetype": "text/x-python",
   "name": "python",
   "nbconvert_exporter": "python",
   "pygments_lexer": "ipython3",
   "version": "3.11.11"
  }
 },
 "nbformat": 4,
 "nbformat_minor": 0
}
